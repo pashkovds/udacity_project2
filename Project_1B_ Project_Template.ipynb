{
 "cells": [
  {
   "cell_type": "markdown",
   "metadata": {},
   "source": [
    "# Part I. ETL Pipeline for Pre-Processing the Files"
   ]
  },
  {
   "cell_type": "markdown",
   "metadata": {},
   "source": [
    "## PLEASE RUN THE FOLLOWING CODE FOR PRE-PROCESSING THE FILES"
   ]
  },
  {
   "cell_type": "markdown",
   "metadata": {},
   "source": [
    "#### Import Python packages "
   ]
  },
  {
   "cell_type": "code",
   "execution_count": 2,
   "metadata": {},
   "outputs": [],
   "source": [
    "# Import Python packages \n",
    "import pandas as pd\n",
    "import cassandra\n",
    "import re\n",
    "import os\n",
    "import glob\n",
    "import numpy as np\n",
    "import json\n",
    "import csv"
   ]
  },
  {
   "cell_type": "markdown",
   "metadata": {},
   "source": [
    "#### Creating list of filepaths to process original event csv data files"
   ]
  },
  {
   "cell_type": "code",
   "execution_count": 3,
   "metadata": {},
   "outputs": [
    {
     "name": "stdout",
     "output_type": "stream",
     "text": [
      "/home/workspace/Repo/udacity_project2\n",
      "['/home/workspace/Repo/udacity_project2/event_data/2018-11-18-events.csv', '/home/workspace/Repo/udacity_project2/event_data/2018-11-02-events.csv', '/home/workspace/Repo/udacity_project2/event_data/2018-11-03-events.csv', '/home/workspace/Repo/udacity_project2/event_data/2018-11-13-events.csv', '/home/workspace/Repo/udacity_project2/event_data/2018-11-14-events.csv', '/home/workspace/Repo/udacity_project2/event_data/2018-11-10-events.csv', '/home/workspace/Repo/udacity_project2/event_data/2018-11-22-events.csv', '/home/workspace/Repo/udacity_project2/event_data/2018-11-30-events.csv', '/home/workspace/Repo/udacity_project2/event_data/2018-11-17-events.csv', '/home/workspace/Repo/udacity_project2/event_data/2018-11-05-events.csv', '/home/workspace/Repo/udacity_project2/event_data/2018-11-23-events.csv', '/home/workspace/Repo/udacity_project2/event_data/2018-11-12-events.csv', '/home/workspace/Repo/udacity_project2/event_data/2018-11-29-events.csv', '/home/workspace/Repo/udacity_project2/event_data/2018-11-08-events.csv', '/home/workspace/Repo/udacity_project2/event_data/2018-11-19-events.csv', '/home/workspace/Repo/udacity_project2/event_data/2018-11-28-events.csv', '/home/workspace/Repo/udacity_project2/event_data/2018-11-26-events.csv', '/home/workspace/Repo/udacity_project2/event_data/2018-11-04-events.csv', '/home/workspace/Repo/udacity_project2/event_data/2018-11-16-events.csv', '/home/workspace/Repo/udacity_project2/event_data/2018-11-24-events.csv', '/home/workspace/Repo/udacity_project2/event_data/2018-11-15-events.csv', '/home/workspace/Repo/udacity_project2/event_data/2018-11-01-events.csv', '/home/workspace/Repo/udacity_project2/event_data/2018-11-07-events.csv', '/home/workspace/Repo/udacity_project2/event_data/2018-11-21-events.csv', '/home/workspace/Repo/udacity_project2/event_data/2018-11-11-events.csv', '/home/workspace/Repo/udacity_project2/event_data/2018-11-06-events.csv', '/home/workspace/Repo/udacity_project2/event_data/2018-11-25-events.csv', '/home/workspace/Repo/udacity_project2/event_data/2018-11-09-events.csv', '/home/workspace/Repo/udacity_project2/event_data/2018-11-20-events.csv', '/home/workspace/Repo/udacity_project2/event_data/2018-11-27-events.csv']\n"
     ]
    }
   ],
   "source": [
    "# checking your current working directory\n",
    "print(os.getcwd())\n",
    "\n",
    "# Get your current folder and subfolder event data\n",
    "filepath = os.getcwd() + '/event_data'\n",
    "\n",
    "# Create a for loop to create a list of files and collect each filepath\n",
    "for root, dirs, files in os.walk(filepath):\n",
    "    \n",
    "# join the file path and roots with the subdirectories using glob\n",
    "    file_path_list = glob.glob(os.path.join(root,'*'))\n",
    "    print(file_path_list)"
   ]
  },
  {
   "cell_type": "markdown",
   "metadata": {},
   "source": [
    "#### Processing the files to create the data file csv that will be used for Apache Casssandra tables"
   ]
  },
  {
   "cell_type": "code",
   "execution_count": 4,
   "metadata": {},
   "outputs": [],
   "source": [
    "# initiating an empty list of rows that will be generated from each file\n",
    "full_data_rows_list = [] \n",
    "    \n",
    "# for every filepath in the file path list \n",
    "for f in file_path_list:\n",
    "\n",
    "# reading csv file \n",
    "    with open(f, 'r', encoding = 'utf8', newline='') as csvfile: \n",
    "        # creating a csv reader object \n",
    "        csvreader = csv.reader(csvfile) \n",
    "        next(csvreader)\n",
    "        \n",
    " # extracting each data row one by one and append it        \n",
    "        for line in csvreader:\n",
    "            #print(line)\n",
    "            full_data_rows_list.append(line) \n",
    "            \n",
    "# uncomment the code below if you would like to get total number of rows \n",
    "#print(len(full_data_rows_list))\n",
    "# uncomment the code below if you would like to check to see what the list of event data rows will look like\n",
    "#print(full_data_rows_list)\n",
    "\n",
    "# creating a smaller event data csv file called event_datafile_full csv that will be used to insert data into the \\\n",
    "# Apache Cassandra tables\n",
    "csv.register_dialect('myDialect', quoting=csv.QUOTE_ALL, skipinitialspace=True)\n",
    "\n",
    "with open('event_datafile_new.csv', 'w', encoding = 'utf8', newline='') as f:\n",
    "    writer = csv.writer(f, dialect='myDialect')\n",
    "    writer.writerow(['artist','firstName','gender','itemInSession','lastName','length',\\\n",
    "                'level','location','sessionId','song','userId'])\n",
    "    for row in full_data_rows_list:\n",
    "        if (row[0] == ''):\n",
    "            continue\n",
    "        writer.writerow((row[0], row[2], row[3], row[4], row[5], row[6], row[7], row[8], row[12], row[13], row[16]))\n"
   ]
  },
  {
   "cell_type": "code",
   "execution_count": 5,
   "metadata": {},
   "outputs": [
    {
     "name": "stdout",
     "output_type": "stream",
     "text": [
      "6821\n"
     ]
    }
   ],
   "source": [
    "# check the number of rows in your csv file\n",
    "with open('event_datafile_new.csv', 'r', encoding = 'utf8') as f:\n",
    "    print(sum(1 for line in f))"
   ]
  },
  {
   "cell_type": "code",
   "execution_count": 145,
   "metadata": {},
   "outputs": [
    {
     "name": "stdout",
     "output_type": "stream",
     "text": [
      "6820\n"
     ]
    },
    {
     "data": {
      "text/html": [
       "<div>\n",
       "<style scoped>\n",
       "    .dataframe tbody tr th:only-of-type {\n",
       "        vertical-align: middle;\n",
       "    }\n",
       "\n",
       "    .dataframe tbody tr th {\n",
       "        vertical-align: top;\n",
       "    }\n",
       "\n",
       "    .dataframe thead th {\n",
       "        text-align: right;\n",
       "    }\n",
       "</style>\n",
       "<table border=\"1\" class=\"dataframe\">\n",
       "  <thead>\n",
       "    <tr style=\"text-align: right;\">\n",
       "      <th></th>\n",
       "      <th>artist</th>\n",
       "      <th>firstName</th>\n",
       "      <th>gender</th>\n",
       "      <th>itemInSession</th>\n",
       "      <th>lastName</th>\n",
       "      <th>length</th>\n",
       "      <th>level</th>\n",
       "      <th>location</th>\n",
       "      <th>sessionId</th>\n",
       "      <th>song</th>\n",
       "      <th>userId</th>\n",
       "    </tr>\n",
       "  </thead>\n",
       "  <tbody>\n",
       "    <tr>\n",
       "      <th>0</th>\n",
       "      <td>Rokia TraorÃÂ©</td>\n",
       "      <td>Stefany</td>\n",
       "      <td>F</td>\n",
       "      <td>0</td>\n",
       "      <td>White</td>\n",
       "      <td>274.88608</td>\n",
       "      <td>free</td>\n",
       "      <td>Lubbock, TX</td>\n",
       "      <td>693</td>\n",
       "      <td>Zen</td>\n",
       "      <td>83</td>\n",
       "    </tr>\n",
       "    <tr>\n",
       "      <th>1</th>\n",
       "      <td>Camila</td>\n",
       "      <td>Tucker</td>\n",
       "      <td>M</td>\n",
       "      <td>1</td>\n",
       "      <td>Garrison</td>\n",
       "      <td>230.81751</td>\n",
       "      <td>free</td>\n",
       "      <td>Oxnard-Thousand Oaks-Ventura, CA</td>\n",
       "      <td>555</td>\n",
       "      <td>Abrazame  (Version Acustica)</td>\n",
       "      <td>40</td>\n",
       "    </tr>\n",
       "    <tr>\n",
       "      <th>2</th>\n",
       "      <td>Carl Thomas</td>\n",
       "      <td>Tucker</td>\n",
       "      <td>M</td>\n",
       "      <td>0</td>\n",
       "      <td>Garrison</td>\n",
       "      <td>196.67546</td>\n",
       "      <td>free</td>\n",
       "      <td>Oxnard-Thousand Oaks-Ventura, CA</td>\n",
       "      <td>698</td>\n",
       "      <td>You Ain't Right (Album Version)</td>\n",
       "      <td>40</td>\n",
       "    </tr>\n",
       "    <tr>\n",
       "      <th>3</th>\n",
       "      <td>N.E.R.D.</td>\n",
       "      <td>James</td>\n",
       "      <td>M</td>\n",
       "      <td>0</td>\n",
       "      <td>Martin</td>\n",
       "      <td>242.99057</td>\n",
       "      <td>free</td>\n",
       "      <td>Dallas-Fort Worth-Arlington, TX</td>\n",
       "      <td>78</td>\n",
       "      <td>Provider (Remix Radio Edit)</td>\n",
       "      <td>79</td>\n",
       "    </tr>\n",
       "    <tr>\n",
       "      <th>4</th>\n",
       "      <td>Lil Jon / The East Side Boyz / DJ Flexx</td>\n",
       "      <td>Jacqueline</td>\n",
       "      <td>F</td>\n",
       "      <td>3</td>\n",
       "      <td>Lynch</td>\n",
       "      <td>285.30893</td>\n",
       "      <td>paid</td>\n",
       "      <td>Atlanta-Sandy Springs-Roswell, GA</td>\n",
       "      <td>589</td>\n",
       "      <td>Aww Skeet Skeet</td>\n",
       "      <td>29</td>\n",
       "    </tr>\n",
       "  </tbody>\n",
       "</table>\n",
       "</div>"
      ],
      "text/plain": [
       "                                    artist   firstName gender  itemInSession  \\\n",
       "0                          Rokia TraorÃÂ©     Stefany      F              0   \n",
       "1                                   Camila      Tucker      M              1   \n",
       "2                              Carl Thomas      Tucker      M              0   \n",
       "3                                 N.E.R.D.       James      M              0   \n",
       "4  Lil Jon / The East Side Boyz / DJ Flexx  Jacqueline      F              3   \n",
       "\n",
       "   lastName     length level                           location  sessionId  \\\n",
       "0     White  274.88608  free                        Lubbock, TX        693   \n",
       "1  Garrison  230.81751  free   Oxnard-Thousand Oaks-Ventura, CA        555   \n",
       "2  Garrison  196.67546  free   Oxnard-Thousand Oaks-Ventura, CA        698   \n",
       "3    Martin  242.99057  free    Dallas-Fort Worth-Arlington, TX         78   \n",
       "4     Lynch  285.30893  paid  Atlanta-Sandy Springs-Roswell, GA        589   \n",
       "\n",
       "                              song  userId  \n",
       "0                              Zen      83  \n",
       "1     Abrazame  (Version Acustica)      40  \n",
       "2  You Ain't Right (Album Version)      40  \n",
       "3      Provider (Remix Radio Edit)      79  \n",
       "4                  Aww Skeet Skeet      29  "
      ]
     },
     "execution_count": 145,
     "metadata": {},
     "output_type": "execute_result"
    }
   ],
   "source": [
    "df = pd.read_csv('./event_datafile_new.csv', encoding = 'utf8')\n",
    "print(df.shape[0])\n",
    "df.head()"
   ]
  },
  {
   "cell_type": "markdown",
   "metadata": {},
   "source": [
    "# Part II. Complete the Apache Cassandra coding portion of your project. \n",
    "\n",
    "## Now you are ready to work with the CSV file titled <font color=red>event_datafile_new.csv</font>, located within the Workspace directory.  The event_datafile_new.csv contains the following columns: \n",
    "- artist \n",
    "- firstName of user\n",
    "- gender of user\n",
    "- item number in session\n",
    "- last name of user\n",
    "- length of the song\n",
    "- level (paid or free song)\n",
    "- location of the user\n",
    "- sessionId\n",
    "- song title\n",
    "- userId\n",
    "\n",
    "The image below is a screenshot of what the denormalized data should appear like in the <font color=red>**event_datafile_new.csv**</font> after the code above is run:<br>\n",
    "\n",
    "<img src=\"images/image_event_datafile_new.jpg\">"
   ]
  },
  {
   "cell_type": "markdown",
   "metadata": {},
   "source": [
    "## Begin writing your Apache Cassandra code in the cells below"
   ]
  },
  {
   "cell_type": "markdown",
   "metadata": {},
   "source": [
    "#### Creating a Cluster"
   ]
  },
  {
   "cell_type": "code",
   "execution_count": 7,
   "metadata": {},
   "outputs": [],
   "source": [
    "# Make a connection to a Cassandra instance your local machine \n",
    "# (127.0.0.1)\n",
    "\n",
    "from cassandra.cluster import Cluster\n",
    "try:\n",
    "    cluster = Cluster(['127.0.0.1'])\n",
    "    # To establish connection and begin executing queries, n\n",
    "    session = cluster.connect()\n",
    "except Exceptions as e:\n",
    "    print(e)"
   ]
  },
  {
   "cell_type": "markdown",
   "metadata": {},
   "source": [
    "#### Create Keyspace"
   ]
  },
  {
   "cell_type": "code",
   "execution_count": 8,
   "metadata": {},
   "outputs": [],
   "source": [
    "try:\n",
    "    session.execute(\"\"\"\n",
    "        CREATE KEYSPACE IF NOT EXISTS udacity\n",
    "        WITH REPLICATION = {'class':'SimpleStrategy', 'replication_factor':1}\n",
    "    \"\"\")\n",
    "except Exception as e:\n",
    "    print(e)"
   ]
  },
  {
   "cell_type": "markdown",
   "metadata": {},
   "source": [
    "#### Set Keyspace"
   ]
  },
  {
   "cell_type": "code",
   "execution_count": 9,
   "metadata": {},
   "outputs": [],
   "source": [
    "try:\n",
    "    session.set_keyspace('udacity')\n",
    "except Exception as e:\n",
    "    print(e)"
   ]
  },
  {
   "cell_type": "markdown",
   "metadata": {},
   "source": [
    "### Now we need to create tables to run the following queries. Remember, with Apache Cassandra you model the database tables on the queries you want to run."
   ]
  },
  {
   "cell_type": "code",
   "execution_count": 234,
   "metadata": {},
   "outputs": [],
   "source": [
    "class BasicTableManager:\n",
    "    '''\n",
    "    This class helps you to create tables for custom queries.\n",
    "    You should inherit from it, set table name and specify fields in a dictionary.\n",
    "    Example table used in current class.\n",
    "    Simple use-case for this class:\n",
    "    table_manager = BasicTableManager()\n",
    "    table_manager.drop_table(session)\n",
    "    table_manager.create_table(session)\n",
    "    table_manager.insert_table(df_data = df, session = session)\n",
    "    table_manager.print_table_description()\n",
    "    table_manager.select_from_table()\n",
    "    \n",
    "    Attributes:\n",
    "        table_name (str): name of table\n",
    "        fields_dict (dict): dictionary with table columns. Keys of dict becomes column names. In dictionary items you set type of column, \n",
    "                            source column from data frame, is column become primarykey or cluster column.\n",
    "    \n",
    "    '''\n",
    "    def __init__(self):\n",
    "        self.table_name = 'example'\n",
    "        self.fields_dict = {\n",
    "            'example_field':{'type':'text', 'ext_col_name':'example_field', 'is_primary': True, 'is_clustering':False}\n",
    "        }\n",
    "    \n",
    "    def get_external_col_names(self):\n",
    "        '''\n",
    "        Returns list with columns from external data-frame required for insert\n",
    "        '''\n",
    "        return [field_parameters['ext_col_name'] for field, field_parameters in self.fields_dict.items()]\n",
    "    \n",
    "     \n",
    "    def get_query_string_create_table(self):\n",
    "        '''\n",
    "        Generate statement to create table from self.table_name and self.fields_dict\n",
    "        \n",
    "        Returns:\n",
    "            str: string-statement to create table\n",
    "        '''\n",
    "        query = \"CREATE TABLE IF NOT EXISTS \" + self.table_name + \" (\"\n",
    "        for field, field_parameters in self.fields_dict.items():\n",
    "            query  = query + field +' ' + field_parameters['type'] + ','\n",
    "        query = query + \" PRIMARY KEY (\"\n",
    "        # primary keys begin\n",
    "        query = query + \"(\"\n",
    "        is_add_sep = False\n",
    "        for field, field_parameters in self.fields_dict.items():\n",
    "            if field_parameters['is_primary']:\n",
    "                if is_add_sep:\n",
    "                    query  = query + ', '\n",
    "                else:\n",
    "                    is_add_sep = True\n",
    "                query  = query + field \n",
    "        query = query + \")\"\n",
    "        # primary keys end\n",
    "        # clustering columns begin\n",
    "        is_add_sep = False\n",
    "        for field, field_parameters in self.fields_dict.items():\n",
    "            if field_parameters['is_clustering']:\n",
    "                if is_add_sep:\n",
    "                    query  = query + ', '\n",
    "                else:\n",
    "                    is_add_sep = True\n",
    "                query  =  query + ', ' + field \n",
    "        query = query + \")\"\n",
    "        # clustering columns end\n",
    "        query = query + \")\"\n",
    "        return query\n",
    "    \n",
    "    def get_query_string_drop_table(self):\n",
    "        '''\n",
    "        Generate statement to drop table\n",
    "        \n",
    "        Returns:\n",
    "            str: string-statement to drop table\n",
    "        '''\n",
    "        query = \"DROP TABLE IF EXISTS \" + self.table_name\n",
    "        return query\n",
    "    \n",
    "    def get_query_string_select(self, input_pars):\n",
    "        '''\n",
    "        Generate statement to select from table\n",
    "        \n",
    "        Args:\n",
    "            input_pars (dict): input parameters used in where statements (if required)\n",
    "        \n",
    "        Returns:\n",
    "            str: string-statement to select\n",
    "        '''\n",
    "        query_template = \"SELECT * FROM {table_name};\"\n",
    "        query_string = query_template.format(\n",
    "            table_name = self.table_name\n",
    "        )\n",
    "        return query_string    \n",
    "    \n",
    "    def get_insert_template(self): \n",
    "        '''\n",
    "        Generate template-statement to insert table\n",
    "        \n",
    "        Returns:\n",
    "            str: template-statement to insert\n",
    "        '''\n",
    "        str_fields_sequence = \"\"\n",
    "        str_template_sequence = \"\"\n",
    "        is_add_sep = False\n",
    "        for field, field_parameters in self.fields_dict.items():\n",
    "            if is_add_sep:\n",
    "                str_fields_sequence  = str_fields_sequence + ', '\n",
    "                str_template_sequence = str_template_sequence + ', '\n",
    "            else:\n",
    "                is_add_sep = True\n",
    "            str_fields_sequence  = str_fields_sequence + field \n",
    "            str_template_sequence = str_template_sequence + '%s'\n",
    "        \n",
    "        insert_template = \"INSERT INTO \" + self.table_name + \" (\"\n",
    "        insert_template = insert_template + str_fields_sequence\n",
    "        insert_template = insert_template + \") VALUES (\"\n",
    "        insert_template = insert_template + str_template_sequence\n",
    "        insert_template = insert_template +  \")\"\n",
    "        return insert_template\n",
    "    \n",
    "    def print_table_description(self):\n",
    "        '''\n",
    "        Print all string query-statements created by class functions\n",
    "        '''\n",
    "        print('\\n')\n",
    "        print('Query to create table:')\n",
    "        print(self.get_query_string_create_table())\n",
    "        print('\\n')\n",
    "        print('Query to drop table:')\n",
    "        print(self.get_query_string_drop_table())\n",
    "        print('\\n')\n",
    "        print('Query to insert new records:')\n",
    "        print(self.get_insert_template())\n",
    "        print('\\n')\n",
    "        print('Default select example for table:')\n",
    "        print(self.get_query_string_select())\n",
    "        print('\\n')\n",
    "        \n",
    "    def create_table(self, session):\n",
    "        '''\n",
    "        Create table using session object\n",
    "        \n",
    "        Args:\n",
    "            session: cassandra session object\n",
    "        '''\n",
    "        session.execute(self.get_query_string_create_table())\n",
    "        \n",
    "    def drop_table(self, session):\n",
    "        '''\n",
    "        Drop table using session object\n",
    "        \n",
    "        Args:\n",
    "            session: cassandra session object\n",
    "        '''\n",
    "        session.execute(self.get_query_string_drop_table())\n",
    "        \n",
    "    def select_from_table(self, session, input_pars):\n",
    "        '''\n",
    "        Select from table using session object and input parameters for where conditions\n",
    "        \n",
    "        Args:\n",
    "            session: cassandra session object\n",
    "        \n",
    "        Returns:\n",
    "             pd.DataFrame: query results \n",
    "        '''\n",
    "        rows = session.execute(self.get_query_string_select(input_pars))\n",
    "        df_result = pd.DataFrame([row for row in rows])\n",
    "        return df_result\n",
    "        \n",
    "    def insert_one_row(self, session, row_data_list):\n",
    "        '''\n",
    "        Insert one record using session object\n",
    "        \n",
    "        Args:\n",
    "            session: cassandra session object\n",
    "            row_data_list (list): list with values to insert\n",
    "        '''\n",
    "        session.execute(self.get_insert_template(), row_data_list)\n",
    "    \n",
    "    def insert_table(self, session, df_data):\n",
    "        '''\n",
    "        Insert multiple records from data-frame\n",
    "        \n",
    "        Args:\n",
    "            session: cassandra session object\n",
    "            df_data (pd.DataFrame): data-frame with values to insert\n",
    "        '''\n",
    "        for i, row in df_data[self.get_external_col_names()].iterrows():\n",
    "            self.insert_one_row(session=session, row_data_list= list(row.values))\n",
    "            \n",
    "\n",
    "\n",
    "class MultipleTableManager:\n",
    "    '''\n",
    "    Class to manage multiple tables. Contains helper functions to call multiple methods from BasicTableManager.\n",
    "    Can hold multiple TableManager configured for different queries\n",
    "    '''\n",
    "    def __init__(self):\n",
    "        self.table_managers_dict = {}\n",
    "    \n",
    "    def add_table_manager(self, table_manager_name: str, table_manager_object: BasicTableManager):\n",
    "        self.table_managers_dict[table_manager_name] = table_manager_object\n",
    "    \n",
    "    def list_table_manager_names(self):\n",
    "        return self.table_managers_dict.keys()\n",
    "    \n",
    "    def create_and_fill_table_by_name(self, table_manager_name, session, df):\n",
    "        table_manager = self.table_managers_dict[table_manager_name]\n",
    "        print('drop table for ' + table_manager_name)\n",
    "        table_manager.drop_table(session)\n",
    "        print('create table for ' + table_manager_name)\n",
    "        table_manager.create_table(session)\n",
    "        print('insert data to table for ' + table_manager_name)\n",
    "        table_manager.insert_table(df_data = df, session = session)\n",
    "        print('completed for ' + table_manager_name)\n",
    "        \n",
    "    def drop_all_tables(self, session):\n",
    "        for table_manager_name, table_manager in self.table_managers_dict.items():\n",
    "            print('drop table for ' + table_manager_name)\n",
    "            table_manager.drop_table(session)\n",
    "            print('completed for ' + table_manager_name)"
   ]
  },
  {
   "cell_type": "markdown",
   "metadata": {},
   "source": [
    "## Create queries to ask the following three questions of the data"
   ]
  },
  {
   "cell_type": "code",
   "execution_count": 235,
   "metadata": {},
   "outputs": [],
   "source": [
    "multiple_table_manager = MultipleTableManager()"
   ]
  },
  {
   "cell_type": "markdown",
   "metadata": {},
   "source": [
    "### 1. Give me the artist, song title and song's length in the music app history that was heard during  sessionId = 338, and itemInSession  = 4"
   ]
  },
  {
   "cell_type": "code",
   "execution_count": 236,
   "metadata": {},
   "outputs": [],
   "source": [
    "class TableManagerQuery1(BasicTableManager):\n",
    "    def __init__(self):\n",
    "        self.table_name = 'song_artist_app'\n",
    "        self.fields_dict = {\n",
    "            'sessionId':{'type':'int', 'ext_col_name':'sessionId', 'is_primary': True, 'is_clustering':False},\n",
    "            'itemInSession':{'type':'int', 'ext_col_name':'itemInSession', 'is_primary': True, 'is_clustering':False},\n",
    "            'artist':{'type':'text', 'ext_col_name':'artist', 'is_primary': False, 'is_clustering':False},\n",
    "            'song':{'type':'text', 'ext_col_name':'song', 'is_primary': False, 'is_clustering':False},\n",
    "            'length':{'type':'float', 'ext_col_name':'length', 'is_primary': False, 'is_clustering':False}\n",
    "        }\n",
    "        \n",
    "    def get_query_string_select(self, input_pars = {'sessionId':338,'itemInSession': 4} ):\n",
    "        query_template = \"SELECT artist, song, length FROM {table_name} where sessionId = {sessionId} and itemInSession = {itemInSession};\"\n",
    "        query_string = query_template.format(\n",
    "            table_name = self.table_name, \n",
    "            sessionId = input_pars['sessionId'],  \n",
    "            itemInSession = input_pars['itemInSession']\n",
    "        )\n",
    "        return query_string\n",
    "\n",
    "multiple_table_manager.add_table_manager(\n",
    "    table_manager_name = 'query1', \n",
    "    table_manager_object = TableManagerQuery1()\n",
    ")"
   ]
  },
  {
   "cell_type": "code",
   "execution_count": 237,
   "metadata": {},
   "outputs": [
    {
     "name": "stdout",
     "output_type": "stream",
     "text": [
      "drop table for query1\n",
      "create table for query1\n",
      "insert data to table for query1\n",
      "completed for query1\n"
     ]
    }
   ],
   "source": [
    "multiple_table_manager.create_and_fill_table_by_name(table_manager_name = 'query1', session = session, df = df)"
   ]
  },
  {
   "cell_type": "code",
   "execution_count": 238,
   "metadata": {},
   "outputs": [
    {
     "name": "stdout",
     "output_type": "stream",
     "text": [
      "\n",
      "\n",
      "Query to create table:\n",
      "CREATE TABLE IF NOT EXISTS song_artist_app (sessionId int,itemInSession int,artist text,song text,length float, PRIMARY KEY ((sessionId, itemInSession)))\n",
      "\n",
      "\n",
      "Query to drop table:\n",
      "DROP TABLE IF EXISTS song_artist_app\n",
      "\n",
      "\n",
      "Query to insert new records:\n",
      "INSERT INTO song_artist_app (sessionId, itemInSession, artist, song, length) VALUES (%s, %s, %s, %s, %s)\n",
      "\n",
      "\n",
      "Default select example for table:\n",
      "SELECT artist, song, length FROM song_artist_app where sessionId = 338 and itemInSession = 4;\n",
      "\n",
      "\n"
     ]
    }
   ],
   "source": [
    "multiple_table_manager.table_managers_dict['query1'].print_table_description()"
   ]
  },
  {
   "cell_type": "code",
   "execution_count": 239,
   "metadata": {},
   "outputs": [
    {
     "data": {
      "text/html": [
       "<div>\n",
       "<style scoped>\n",
       "    .dataframe tbody tr th:only-of-type {\n",
       "        vertical-align: middle;\n",
       "    }\n",
       "\n",
       "    .dataframe tbody tr th {\n",
       "        vertical-align: top;\n",
       "    }\n",
       "\n",
       "    .dataframe thead th {\n",
       "        text-align: right;\n",
       "    }\n",
       "</style>\n",
       "<table border=\"1\" class=\"dataframe\">\n",
       "  <thead>\n",
       "    <tr style=\"text-align: right;\">\n",
       "      <th></th>\n",
       "      <th>artist</th>\n",
       "      <th>song</th>\n",
       "      <th>length</th>\n",
       "    </tr>\n",
       "  </thead>\n",
       "  <tbody>\n",
       "    <tr>\n",
       "      <th>0</th>\n",
       "      <td>Faithless</td>\n",
       "      <td>Music Matters (Mark Knight Dub)</td>\n",
       "      <td>495.307312</td>\n",
       "    </tr>\n",
       "  </tbody>\n",
       "</table>\n",
       "</div>"
      ],
      "text/plain": [
       "      artist                             song      length\n",
       "0  Faithless  Music Matters (Mark Knight Dub)  495.307312"
      ]
     },
     "execution_count": 239,
     "metadata": {},
     "output_type": "execute_result"
    }
   ],
   "source": [
    "multiple_table_manager.table_managers_dict['query1'].select_from_table(\n",
    "    session = session, \n",
    "    input_pars={\n",
    "    'sessionId':338,\n",
    "    'itemInSession': 4\n",
    "    }\n",
    ")"
   ]
  },
  {
   "cell_type": "markdown",
   "metadata": {},
   "source": [
    "### 2. Give me only the following: name of artist, song (sorted by itemInSession) and user (first and last name) for userid = 10, sessionid = 182"
   ]
  },
  {
   "cell_type": "code",
   "execution_count": 240,
   "metadata": {},
   "outputs": [],
   "source": [
    "class TableManagerQuery2(BasicTableManager):\n",
    "    def __init__(self):\n",
    "        self.table_name = 'song_user_app'\n",
    "        self.fields_dict = {\n",
    "            'userId':{'type':'int', 'ext_col_name':'userId', 'is_primary': True, 'is_clustering':False},\n",
    "            'sessionId':{'type':'int', 'ext_col_name':'sessionId', 'is_primary': True, 'is_clustering':False},\n",
    "            'itemInSession':{'type':'int', 'ext_col_name':'itemInSession', 'is_primary': False, 'is_clustering':True},\n",
    "            'artist':{'type':'text', 'ext_col_name':'artist', 'is_primary': False, 'is_clustering':False},\n",
    "            'song':{'type':'text', 'ext_col_name':'song', 'is_primary': False, 'is_clustering':False},\n",
    "            'firstName':{'type':'text', 'ext_col_name':'firstName', 'is_primary': False, 'is_clustering':False},\n",
    "            'lastName':{'type':'text', 'ext_col_name':'lastName', 'is_primary': False, 'is_clustering':False}\n",
    "        }\n",
    "        \n",
    "    def get_query_string_select(self, input_pars = {'userId':10, 'sessionId': 182} ):\n",
    "        query_template = \"SELECT itemInSession, artist, song, firstName, lastName FROM {table_name} where userId = {userId} and sessionId = {sessionId} ORDER BY itemInSession;\"\n",
    "        query_string = query_template.format(\n",
    "            table_name = self.table_name, \n",
    "            userId = input_pars['userId'],  \n",
    "            sessionId = input_pars['sessionId']\n",
    "        )\n",
    "        return query_string\n",
    "\n",
    "multiple_table_manager.add_table_manager(\n",
    "    table_manager_name = 'query2', \n",
    "    table_manager_object = TableManagerQuery2()\n",
    ")"
   ]
  },
  {
   "cell_type": "code",
   "execution_count": 241,
   "metadata": {},
   "outputs": [
    {
     "name": "stdout",
     "output_type": "stream",
     "text": [
      "drop table for query2\n",
      "create table for query2\n",
      "insert data to table for query2\n",
      "completed for query2\n"
     ]
    }
   ],
   "source": [
    "multiple_table_manager.create_and_fill_table_by_name(table_manager_name = 'query2', session = session, df = df)"
   ]
  },
  {
   "cell_type": "code",
   "execution_count": 242,
   "metadata": {},
   "outputs": [
    {
     "name": "stdout",
     "output_type": "stream",
     "text": [
      "\n",
      "\n",
      "Query to create table:\n",
      "CREATE TABLE IF NOT EXISTS song_user_app (userId int,sessionId int,itemInSession int,artist text,song text,firstName text,lastName text, PRIMARY KEY ((userId, sessionId), itemInSession))\n",
      "\n",
      "\n",
      "Query to drop table:\n",
      "DROP TABLE IF EXISTS song_user_app\n",
      "\n",
      "\n",
      "Query to insert new records:\n",
      "INSERT INTO song_user_app (userId, sessionId, itemInSession, artist, song, firstName, lastName) VALUES (%s, %s, %s, %s, %s, %s, %s)\n",
      "\n",
      "\n",
      "Default select example for table:\n",
      "SELECT itemInSession, artist, song, firstName, lastName FROM song_user_app where userId = 10 and sessionId = 182 ORDER BY itemInSession;\n",
      "\n",
      "\n"
     ]
    }
   ],
   "source": [
    "multiple_table_manager.table_managers_dict['query2'].print_table_description()"
   ]
  },
  {
   "cell_type": "code",
   "execution_count": 243,
   "metadata": {},
   "outputs": [
    {
     "data": {
      "text/html": [
       "<div>\n",
       "<style scoped>\n",
       "    .dataframe tbody tr th:only-of-type {\n",
       "        vertical-align: middle;\n",
       "    }\n",
       "\n",
       "    .dataframe tbody tr th {\n",
       "        vertical-align: top;\n",
       "    }\n",
       "\n",
       "    .dataframe thead th {\n",
       "        text-align: right;\n",
       "    }\n",
       "</style>\n",
       "<table border=\"1\" class=\"dataframe\">\n",
       "  <thead>\n",
       "    <tr style=\"text-align: right;\">\n",
       "      <th></th>\n",
       "      <th>iteminsession</th>\n",
       "      <th>artist</th>\n",
       "      <th>song</th>\n",
       "      <th>firstname</th>\n",
       "      <th>lastname</th>\n",
       "    </tr>\n",
       "  </thead>\n",
       "  <tbody>\n",
       "    <tr>\n",
       "      <th>0</th>\n",
       "      <td>0</td>\n",
       "      <td>Down To The Bone</td>\n",
       "      <td>Keep On Keepin' On</td>\n",
       "      <td>Sylvie</td>\n",
       "      <td>Cruz</td>\n",
       "    </tr>\n",
       "    <tr>\n",
       "      <th>1</th>\n",
       "      <td>1</td>\n",
       "      <td>Three Drives</td>\n",
       "      <td>Greece 2000</td>\n",
       "      <td>Sylvie</td>\n",
       "      <td>Cruz</td>\n",
       "    </tr>\n",
       "    <tr>\n",
       "      <th>2</th>\n",
       "      <td>2</td>\n",
       "      <td>Sebastien Tellier</td>\n",
       "      <td>Kilometer</td>\n",
       "      <td>Sylvie</td>\n",
       "      <td>Cruz</td>\n",
       "    </tr>\n",
       "    <tr>\n",
       "      <th>3</th>\n",
       "      <td>3</td>\n",
       "      <td>Lonnie Gordon</td>\n",
       "      <td>Catch You Baby (Steve Pitron &amp; Max Sanna Radio...</td>\n",
       "      <td>Sylvie</td>\n",
       "      <td>Cruz</td>\n",
       "    </tr>\n",
       "  </tbody>\n",
       "</table>\n",
       "</div>"
      ],
      "text/plain": [
       "   iteminsession             artist  \\\n",
       "0              0   Down To The Bone   \n",
       "1              1       Three Drives   \n",
       "2              2  Sebastien Tellier   \n",
       "3              3      Lonnie Gordon   \n",
       "\n",
       "                                                song firstname lastname  \n",
       "0                                 Keep On Keepin' On    Sylvie     Cruz  \n",
       "1                                        Greece 2000    Sylvie     Cruz  \n",
       "2                                          Kilometer    Sylvie     Cruz  \n",
       "3  Catch You Baby (Steve Pitron & Max Sanna Radio...    Sylvie     Cruz  "
      ]
     },
     "execution_count": 243,
     "metadata": {},
     "output_type": "execute_result"
    }
   ],
   "source": [
    "multiple_table_manager.table_managers_dict['query2'].select_from_table(\n",
    "    session = session, \n",
    "    input_pars={'userId':10, 'sessionId': 182} \n",
    ")"
   ]
  },
  {
   "cell_type": "markdown",
   "metadata": {},
   "source": [
    "### 3. Give me every user name (first and last) in my music app history who listened to the song 'All Hands Against His Own'"
   ]
  },
  {
   "cell_type": "code",
   "execution_count": 244,
   "metadata": {},
   "outputs": [],
   "source": [
    "class TableManagerQuery3(BasicTableManager):\n",
    "    def __init__(self):\n",
    "        self.table_name = 'song_user'\n",
    "        self.fields_dict = {\n",
    "            'song':{'type':'text', 'ext_col_name':'song', 'is_primary': True, 'is_clustering':False},\n",
    "            'firstName':{'type':'text', 'ext_col_name':'firstName', 'is_primary': False, 'is_clustering':False},\n",
    "            'lastName':{'type':'text', 'ext_col_name':'lastName', 'is_primary': False, 'is_clustering':False}\n",
    "        }\n",
    "        \n",
    "    def get_query_string_select(self, input_pars = {'song':'All Hands Against His Own'} ):\n",
    "        query_template = \"SELECT firstName, lastName FROM {table_name} WHERE song = '{song}';\"\n",
    "        query_string = query_template.format(\n",
    "            table_name = self.table_name, \n",
    "            song = input_pars['song']\n",
    "        )\n",
    "        return query_string\n",
    "    \n",
    "multiple_table_manager.add_table_manager(\n",
    "    table_manager_name = 'query3', \n",
    "    table_manager_object = TableManagerQuery3()\n",
    ")"
   ]
  },
  {
   "cell_type": "code",
   "execution_count": 245,
   "metadata": {},
   "outputs": [
    {
     "name": "stdout",
     "output_type": "stream",
     "text": [
      "drop table for query3\n",
      "create table for query3\n",
      "insert data to table for query3\n",
      "completed for query3\n"
     ]
    }
   ],
   "source": [
    "multiple_table_manager.create_and_fill_table_by_name(table_manager_name = 'query3', session = session, df = df)"
   ]
  },
  {
   "cell_type": "code",
   "execution_count": 246,
   "metadata": {},
   "outputs": [
    {
     "name": "stdout",
     "output_type": "stream",
     "text": [
      "\n",
      "\n",
      "Query to create table:\n",
      "CREATE TABLE IF NOT EXISTS song_user (song text,firstName text,lastName text, PRIMARY KEY ((song)))\n",
      "\n",
      "\n",
      "Query to drop table:\n",
      "DROP TABLE IF EXISTS song_user\n",
      "\n",
      "\n",
      "Query to insert new records:\n",
      "INSERT INTO song_user (song, firstName, lastName) VALUES (%s, %s, %s)\n",
      "\n",
      "\n",
      "Default select example for table:\n",
      "SELECT firstName, lastName FROM song_user WHERE song = 'All Hands Against His Own';\n",
      "\n",
      "\n"
     ]
    }
   ],
   "source": [
    "multiple_table_manager.table_managers_dict['query3'].print_table_description()"
   ]
  },
  {
   "cell_type": "code",
   "execution_count": 247,
   "metadata": {},
   "outputs": [
    {
     "data": {
      "text/html": [
       "<div>\n",
       "<style scoped>\n",
       "    .dataframe tbody tr th:only-of-type {\n",
       "        vertical-align: middle;\n",
       "    }\n",
       "\n",
       "    .dataframe tbody tr th {\n",
       "        vertical-align: top;\n",
       "    }\n",
       "\n",
       "    .dataframe thead th {\n",
       "        text-align: right;\n",
       "    }\n",
       "</style>\n",
       "<table border=\"1\" class=\"dataframe\">\n",
       "  <thead>\n",
       "    <tr style=\"text-align: right;\">\n",
       "      <th></th>\n",
       "      <th>firstname</th>\n",
       "      <th>lastname</th>\n",
       "    </tr>\n",
       "  </thead>\n",
       "  <tbody>\n",
       "    <tr>\n",
       "      <th>0</th>\n",
       "      <td>Tegan</td>\n",
       "      <td>Levine</td>\n",
       "    </tr>\n",
       "  </tbody>\n",
       "</table>\n",
       "</div>"
      ],
      "text/plain": [
       "  firstname lastname\n",
       "0     Tegan   Levine"
      ]
     },
     "execution_count": 247,
     "metadata": {},
     "output_type": "execute_result"
    }
   ],
   "source": [
    "multiple_table_manager.table_managers_dict['query3'].select_from_table(\n",
    "    session = session, \n",
    "    input_pars = {'song':'All Hands Against His Own'}\n",
    ")"
   ]
  },
  {
   "cell_type": "markdown",
   "metadata": {},
   "source": [
    "## List of tables"
   ]
  },
  {
   "cell_type": "code",
   "execution_count": 248,
   "metadata": {},
   "outputs": [
    {
     "data": {
      "text/html": [
       "<div>\n",
       "<style scoped>\n",
       "    .dataframe tbody tr th:only-of-type {\n",
       "        vertical-align: middle;\n",
       "    }\n",
       "\n",
       "    .dataframe tbody tr th {\n",
       "        vertical-align: top;\n",
       "    }\n",
       "\n",
       "    .dataframe thead th {\n",
       "        text-align: right;\n",
       "    }\n",
       "</style>\n",
       "<table border=\"1\" class=\"dataframe\">\n",
       "  <thead>\n",
       "    <tr style=\"text-align: right;\">\n",
       "      <th></th>\n",
       "      <th>keyspace_name</th>\n",
       "      <th>table_name</th>\n",
       "    </tr>\n",
       "  </thead>\n",
       "  <tbody>\n",
       "    <tr>\n",
       "      <th>0</th>\n",
       "      <td>udacity</td>\n",
       "      <td>song_artist_app</td>\n",
       "    </tr>\n",
       "    <tr>\n",
       "      <th>1</th>\n",
       "      <td>udacity</td>\n",
       "      <td>song_user</td>\n",
       "    </tr>\n",
       "    <tr>\n",
       "      <th>2</th>\n",
       "      <td>udacity</td>\n",
       "      <td>song_user_app</td>\n",
       "    </tr>\n",
       "  </tbody>\n",
       "</table>\n",
       "</div>"
      ],
      "text/plain": [
       "  keyspace_name       table_name\n",
       "0       udacity  song_artist_app\n",
       "1       udacity        song_user\n",
       "2       udacity    song_user_app"
      ]
     },
     "execution_count": 248,
     "metadata": {},
     "output_type": "execute_result"
    }
   ],
   "source": [
    "rows = session.execute(\"SELECT keyspace_name, table_name FROM system_schema.tables WHERE keyspace_name = 'udacity';\")\n",
    "df_result = pd.DataFrame([row for row in rows])\n",
    "df_result.head()"
   ]
  },
  {
   "cell_type": "markdown",
   "metadata": {},
   "source": [
    "### Drop the tables before closing out the sessions"
   ]
  },
  {
   "cell_type": "code",
   "execution_count": 250,
   "metadata": {},
   "outputs": [
    {
     "name": "stdout",
     "output_type": "stream",
     "text": [
      "drop table for query1\n",
      "completed for query1\n",
      "drop table for query2\n",
      "completed for query2\n",
      "drop table for query3\n",
      "completed for query3\n"
     ]
    }
   ],
   "source": [
    "multiple_table_manager.drop_all_tables(session)"
   ]
  },
  {
   "cell_type": "markdown",
   "metadata": {},
   "source": [
    "### Close the session and cluster connection¶"
   ]
  },
  {
   "cell_type": "code",
   "execution_count": null,
   "metadata": {},
   "outputs": [],
   "source": [
    "session.shutdown()\n",
    "cluster.shutdown()"
   ]
  }
 ],
 "metadata": {
  "kernelspec": {
   "display_name": "Python 3",
   "language": "python",
   "name": "python3"
  },
  "language_info": {
   "codemirror_mode": {
    "name": "ipython",
    "version": 3
   },
   "file_extension": ".py",
   "mimetype": "text/x-python",
   "name": "python",
   "nbconvert_exporter": "python",
   "pygments_lexer": "ipython3",
   "version": "3.6.3"
  }
 },
 "nbformat": 4,
 "nbformat_minor": 2
}
